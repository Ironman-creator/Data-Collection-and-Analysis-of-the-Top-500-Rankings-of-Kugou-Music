{
 "cells": [
  {
   "cell_type": "code",
   "execution_count": null,
   "id": "80350d0d",
   "metadata": {},
   "outputs": [],
   "source": [
    "import requests\n",
    "from bs4 import BeautifulSoup\n",
    "import time\n",
    "import pandas as pd\n",
    "\n",
    "headers = {\n",
    "    \"User-Agent\": \"Mozilla/5.0 (Windows NT 10.0; Win64; x64) AppleWebKit/537.36 (KHTML, like Gecko) Chrome/97.0.4692.71 Safari/537.36\"\n",
    "}\n",
    "\n",
    "def get_info(url):\n",
    "    web_data = requests.get(url, headers=headers)\n",
    "    soup = BeautifulSoup(web_data.text, 'lxml')\n",
    "\n",
    "    ranks = soup.select('span.pc_temp_num')\n",
    "    titles = soup.select('div.pc_temp_songlist > ul > li > a')\n",
    "    times = soup.select('span.pc_temp_tips_r > span')\n",
    "    \n",
    "    data_list = []\n",
    "    for rank, title, time in zip(ranks, titles, times):\n",
    "        data = {\n",
    "            \"排名\": rank.get_text().strip(),\n",
    "            \"歌手\": title.get_text().replace(\"\\n\", \"\").replace(\"\\t\", \"\").split('-')[1],\n",
    "            \"歌曲\": title.get_text().replace(\"\\n\", \"\").replace(\"\\t\", \"\").split('-')[0],\n",
    "            \"时长\": time.get_text().strip()\n",
    "        }\n",
    "        data_list.append(data)\n",
    "    \n",
    "    return data_list\n",
    "\n",
    "if __name__ == '__main__':\n",
    "    urls = [\"https://www.kugou.com/yy/rank/home/{}-8888.html\".format(str(i)) for i in range(1, 24)]\n",
    "    all_data = []\n",
    "    for url in urls:\n",
    "        data = get_info(url)\n",
    "        all_data.extend(data)\n",
    "        time.sleep(1)\n",
    "    df = pd.DataFrame(all_data)\n",
    "    df.to_excel('酷狗音乐Top500排行榜.xlsx', index=False)\n"
   ]
  },
  {
   "cell_type": "code",
   "execution_count": null,
   "id": "b21e4ff4",
   "metadata": {},
   "outputs": [],
   "source": []
  }
 ],
 "metadata": {
  "kernelspec": {
   "display_name": "Python 3 (ipykernel)",
   "language": "python",
   "name": "python3"
  },
  "language_info": {
   "codemirror_mode": {
    "name": "ipython",
    "version": 3
   },
   "file_extension": ".py",
   "mimetype": "text/x-python",
   "name": "python",
   "nbconvert_exporter": "python",
   "pygments_lexer": "ipython3",
   "version": "3.9.6"
  }
 },
 "nbformat": 4,
 "nbformat_minor": 5
}
